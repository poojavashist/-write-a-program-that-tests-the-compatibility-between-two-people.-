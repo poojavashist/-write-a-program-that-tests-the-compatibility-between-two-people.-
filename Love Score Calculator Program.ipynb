{
 "cells": [
  {
   "cell_type": "code",
   "execution_count": 32,
   "metadata": {},
   "outputs": [
    {
     "name": "stdout",
     "output_type": "stream",
     "text": [
      "Welcome to the Love Calculator!\n",
      "What is your name? \n",
      "meenakashi\n",
      "What is their name? \n",
      "ajay\n",
      "22\n",
      "your score is 22\n"
     ]
    }
   ],
   "source": [
    "print(\"Welcome to the Love Calculator!\")\n",
    "name1 = input(\"What is your name? \\n\")\n",
    "name2 = input(\"What is their name? \\n\")\n",
    "\n",
    "combined_string =name1 +name2\n",
    "\n",
    "lowercase_string = combined_string.lower()\n",
    "t = lowercase_string.count(\"t\")\n",
    "r = lowercase_string.count(\"r\")\n",
    "u = lowercase_string.count(\"u\")\n",
    "e = lowercase_string.count(\"e\")\n",
    "\n",
    "true = t+r+u+e\n",
    "\n",
    "l = lowercase_string.count(\"l\")\n",
    "o = lowercase_string.count(\"o\")\n",
    "v = lowercase_string.count(\"v\")\n",
    "e = lowercase_string.count(\"e\")\n",
    "\n",
    "love = l+o+v+e\n",
    "lovescore = int(str(true)+ str(love))\n",
    "\n",
    "print(lovescore)\n",
    "\n",
    "if (lovescore <10) or (lovescore>90):\n",
    "    print(f\"your lovescore is {lovescore} , you go together like cake and cream.\")\n",
    "elif(lovescore >= 40) and (lovescore <=50):\n",
    "    print(f\"your lovescore is {lovescore}, you are alright together.\")\n",
    "else:\n",
    "        print(f\"your score is {lovescore}\")\n",
    "        "
   ]
  },
  {
   "cell_type": "code",
   "execution_count": null,
   "metadata": {},
   "outputs": [],
   "source": []
  },
  {
   "cell_type": "code",
   "execution_count": null,
   "metadata": {},
   "outputs": [],
   "source": []
  }
 ],
 "metadata": {
  "kernelspec": {
   "display_name": "Python 3",
   "language": "python",
   "name": "python3"
  },
  "language_info": {
   "codemirror_mode": {
    "name": "ipython",
    "version": 3
   },
   "file_extension": ".py",
   "mimetype": "text/x-python",
   "name": "python",
   "nbconvert_exporter": "python",
   "pygments_lexer": "ipython3",
   "version": "3.8.3"
  }
 },
 "nbformat": 4,
 "nbformat_minor": 4
}
